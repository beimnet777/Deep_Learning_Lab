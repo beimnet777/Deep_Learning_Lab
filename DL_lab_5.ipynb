{
  "cells": [
    {
      "cell_type": "code",
      "execution_count": 1,
      "metadata": {
        "id": "U2RjB6Sy_8x5"
      },
      "outputs": [],
      "source": [
        "import torch"
      ]
    },
    {
      "cell_type": "markdown",
      "metadata": {
        "id": "MrWyFXBBmx5O"
      },
      "source": [
        "# Neural Network Basic Component Implementations"
      ]
    },
    {
      "cell_type": "markdown",
      "metadata": {
        "id": "R3OxS16Vl7gR"
      },
      "source": [
        "## Accuracy"
      ]
    },
    {
      "cell_type": "code",
      "execution_count": 2,
      "metadata": {
        "id": "9S99HrwPl_Ze"
      },
      "outputs": [],
      "source": [
        "class Accuracy:\n",
        "    def __init__(self):\n",
        "        self.output = 0\n",
        "    def forward(self,y_pred,y_true):\n",
        "        if y_pred.shape != y_true.shape:\n",
        "            one_hot_notation = torch.zeros(y_pred.shape)\n",
        "            one_hot_notation[range(len(y_pred)),y_true] = 1\n",
        "        else:\n",
        "            one_hot_notation = y_true\n",
        "        correct_values = y_pred==one_hot_notation\n",
        "        correct_values = correct_values * one_hot_notation\n",
        "        self.output = torch.sum(correct_values) / len(y_pred)\n",
        "        return self.output"
      ]
    },
    {
      "cell_type": "markdown",
      "metadata": {
        "id": "7t0VknFUl01W"
      },
      "source": [
        "## Dense layer"
      ]
    },
    {
      "cell_type": "code",
      "execution_count": 3,
      "metadata": {
        "id": "eF_U5ITIl5Ox"
      },
      "outputs": [],
      "source": [
        "class DenseLayer:\n",
        "\n",
        "    def __init__(self,n_features, n_neurons):\n",
        "        self.weights = torch.rand((n_features,n_neurons))\n",
        "        self.bias = torch.rand(n_neurons)\n",
        "\n",
        "    def forward(self,inputs):\n",
        "        self.output = torch.matmul(inputs,self.weights) + self.bias"
      ]
    },
    {
      "cell_type": "markdown",
      "metadata": {
        "id": "iqHM3KuzmASG"
      },
      "source": [
        "## Activation Simgoid"
      ]
    },
    {
      "cell_type": "code",
      "execution_count": 4,
      "metadata": {
        "id": "BiO7oSuGmH9i"
      },
      "outputs": [],
      "source": [
        "class Sigmoid_Activation:\n",
        "    def forward(self,input):\n",
        "        self.output = 1 / (1 + torch.exp(-input))\n",
        "        return self.output"
      ]
    },
    {
      "cell_type": "markdown",
      "metadata": {
        "id": "U1zsq6_0mLLX"
      },
      "source": [
        "## Activation ReLU"
      ]
    },
    {
      "cell_type": "code",
      "execution_count": 5,
      "metadata": {
        "id": "o4JlE9YjmNhX"
      },
      "outputs": [],
      "source": [
        "class ReLU_Activation:\n",
        "    def forward(self,inputs):\n",
        "        self.output = torch.max(inputs,torch.tensor(0))\n",
        "        return self.output\n",
        "\n"
      ]
    },
    {
      "cell_type": "markdown",
      "metadata": {
        "id": "gCNQXMo9nwU7"
      },
      "source": [
        "# Model"
      ]
    },
    {
      "cell_type": "code",
      "execution_count": 6,
      "metadata": {
        "id": "qitCcFqPophC"
      },
      "outputs": [],
      "source": [
        "class Model:\n",
        "    def __init__(self):\n",
        "        self.layer1 = DenseLayer(2,2)\n",
        "        self.layer1_activation = ReLU_Activation()\n",
        "        self.output_layer = DenseLayer(2,2)\n",
        "        self.output_layer_activation = Sigmoid_Activation()\n",
        "        self.error = float('inf')\n",
        "\n",
        "    def forward_prop(self,inputs):\n",
        "        self.input = inputs\n",
        "        self.layer1.forward(inputs)\n",
        "        self.layer1_activation.forward(self.layer1.output)\n",
        "        self.output_layer.forward(self.layer1_activation.output)\n",
        "        self.output_layer_activation.forward(self.output_layer.output)\n",
        "\n",
        "    def calc_error(self,y_true):\n",
        "        if self.output_layer_activation.output.shape != y_true.shape:\n",
        "            one_hot_notation = torch.zeros(self.output_layer_activation.output.shape)\n",
        "            one_hot_notation[y_true] = 1\n",
        "        else:\n",
        "            one_hot_notation = y_true\n",
        "        self.y_true = one_hot_notation\n",
        "        self.error = (self.output_layer_activation.output - one_hot_notation)\n",
        "        self.mse = torch.mean(self.error)\n",
        "\n",
        "    def back_prop(self,lr):\n",
        "        dloss_by_dsig = self.error\n",
        "        dsig_by_layer2 = (torch.tensor([1]) - self.output_layer_activation.output) * self.output_layer_activation.output\n",
        "\n",
        "        # layer 2\n",
        "        back2 = dloss_by_dsig * dsig_by_layer2\n",
        "        layer2_grad = torch.cat((self.layer1_activation.output.unsqueeze(dim=0),self.layer1_activation.output.unsqueeze(dim=0)),dim=0).T * back2\n",
        "        self.output_layer.weights -= torch.tensor([lr]) * layer2_grad\n",
        "        self.output_layer.bias -= torch.tensor([lr]) * back2\n",
        "\n",
        "        # layer 1\n",
        "        drelu_by_dlayer1 = self.layer1.output>0\n",
        "        back1 = drelu_by_dlayer1 * torch.sum(self.output_layer.weights * back2,dim=1,keepdims=True).squeeze()\n",
        "        layer1_grad = torch.cat((self.input.unsqueeze(dim=0),self.input.unsqueeze(dim=0)),dim=0).T * back1\n",
        "        self.layer1.weights -= torch.tensor([lr]) * layer1_grad\n",
        "        self.layer1.bias -= torch.tensor([lr]) * back1\n",
        "\n",
        "\n",
        "    def fit(self,inputs,y_true,epoches=1000,lr=0.01):\n",
        "        for epoch in range(epoches):\n",
        "            for i in range(len(inputs)):\n",
        "                self.forward_prop(inputs[i])\n",
        "                self.calc_error(y_true[i])\n",
        "                if self.mse < 0.1:\n",
        "                    break\n",
        "                self.back_prop(lr)\n",
        "        error = torch.tensor([0,0],dtype = torch.float)\n",
        "        for i in range(len(inputs)):\n",
        "            self.forward_prop(inputs[i])\n",
        "            self.calc_error(y_true[i])\n",
        "            print(\"output:\",self.output_layer_activation.output,\"expected: \",self.y_true)\n",
        "            print(\"squared error\",self.error**2)\n",
        "            print()\n",
        "            error += self.error**2\n",
        "\n",
        "        avg_error = error / len(inputs)\n",
        "        print(\"average squared error\",avg_error)\n",
        "        print(\"over all mse:\",torch.mean(avg_error))\n",
        "\n"
      ]
    },
    {
      "cell_type": "code",
      "execution_count": 10,
      "metadata": {
        "colab": {
          "base_uri": "https://localhost:8080/"
        },
        "id": "oa8KzfxnGhYX",
        "outputId": "f831c79b-d55b-4deb-bdb4-3016ba56807d"
      },
      "outputs": [
        {
          "output_type": "stream",
          "name": "stdout",
          "text": [
            "output: tensor([0.6600, 0.5358]) expected:  tensor([1., 0.])\n",
            "squared error tensor([0.1156, 0.2871])\n",
            "\n",
            "output: tensor([0.6623, 0.5359]) expected:  tensor([1., 0.])\n",
            "squared error tensor([0.1140, 0.2872])\n",
            "\n",
            "output: tensor([0.6647, 0.5359]) expected:  tensor([0., 1.])\n",
            "squared error tensor([0.4418, 0.2154])\n",
            "\n",
            "output: tensor([0.6671, 0.5360]) expected:  tensor([0., 1.])\n",
            "squared error tensor([0.4450, 0.2153])\n",
            "\n",
            "output: tensor([0.9710, 0.9148]) expected:  tensor([0., 1.])\n",
            "squared error tensor([0.9429, 0.0073])\n",
            "\n",
            "output: tensor([0.6612, 0.5359]) expected:  tensor([1., 0.])\n",
            "squared error tensor([0.1148, 0.2871])\n",
            "\n",
            "average squared error tensor([0.3624, 0.2166])\n",
            "over all mse: tensor(0.2895)\n"
          ]
        }
      ],
      "source": [
        "model = Model()\n",
        "inputs = torch.tensor([[1,2],[3,4],[5,6],[7,8],[9,1],[2,3]],dtype=torch.float)\n",
        "y_true = torch.tensor([0,0,1,1,1,0])\n",
        "model.fit(inputs,y_true,epoches=20000)"
      ]
    }
  ],
  "metadata": {
    "colab": {
      "collapsed_sections": [
        "MrWyFXBBmx5O"
      ],
      "provenance": []
    },
    "kernelspec": {
      "display_name": "Python 3",
      "name": "python3"
    },
    "language_info": {
      "name": "python"
    }
  },
  "nbformat": 4,
  "nbformat_minor": 0
}