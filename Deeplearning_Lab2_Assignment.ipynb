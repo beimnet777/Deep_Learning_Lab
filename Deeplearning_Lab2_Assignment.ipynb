{
  "nbformat": 4,
  "nbformat_minor": 0,
  "metadata": {
    "colab": {
      "provenance": []
    },
    "kernelspec": {
      "name": "python3",
      "display_name": "Python 3"
    },
    "language_info": {
      "name": "python"
    }
  },
  "cells": [
    {
      "cell_type": "code",
      "execution_count": 1,
      "metadata": {
        "id": "yswFhu3Qu6XL"
      },
      "outputs": [],
      "source": [
        "import torch"
      ]
    },
    {
      "cell_type": "code",
      "source": [
        "torch.manual_seed(27)"
      ],
      "metadata": {
        "colab": {
          "base_uri": "https://localhost:8080/"
        },
        "id": "Fx2plspdv8_n",
        "outputId": "fd144120-8bec-4c19-8b2a-18f7f2bfb41c"
      },
      "execution_count": 2,
      "outputs": [
        {
          "output_type": "execute_result",
          "data": {
            "text/plain": [
              "<torch._C.Generator at 0x7b20227bfc30>"
            ]
          },
          "metadata": {},
          "execution_count": 2
        }
      ]
    },
    {
      "cell_type": "code",
      "source": [
        "class DenseLayer:\n",
        "\n",
        "  def __init__(self, n_features, n_neurons) -> None:\n",
        "    self.weight = 0.01 * torch.rand((n_neurons,n_features))\n",
        "    self.bias = torch.zeros((1,n_neurons))\n",
        "\n",
        "  def forward(self, inputs):\n",
        "    self.output = torch.matmul(inputs, self.weight.T) + self.bias\n",
        "    return self.output"
      ],
      "metadata": {
        "id": "B2U-c2NavB3T"
      },
      "execution_count": 3,
      "outputs": []
    },
    {
      "cell_type": "code",
      "source": [
        "input =  torch.rand(32,5)\n",
        "layer1 = DenseLayer(5,16)\n",
        "layer2 = DenseLayer(16,16)\n",
        "layer3 = DenseLayer(16,16)\n",
        "output = DenseLayer(16,5)\n"
      ],
      "metadata": {
        "id": "ossfHcpjvEc9"
      },
      "execution_count": 4,
      "outputs": []
    },
    {
      "cell_type": "code",
      "source": [
        "layer1.forward(input)\n",
        "layer2.forward(layer1.output)\n",
        "layer3.forward(layer2.output)\n",
        "output.forward(layer3.output)\n",
        "output.output"
      ],
      "metadata": {
        "colab": {
          "base_uri": "https://localhost:8080/"
        },
        "id": "Im_cUZu5vNxL",
        "outputId": "bd06e002-3aa6-4c26-f525-86d1f53e3efb"
      },
      "execution_count": 5,
      "outputs": [
        {
          "output_type": "execute_result",
          "data": {
            "text/plain": [
              "tensor([[4.9479e-06, 4.2974e-06, 5.9810e-06, 5.3823e-06, 4.5978e-06],\n",
              "        [4.3810e-06, 3.8049e-06, 5.2966e-06, 4.7637e-06, 4.0704e-06],\n",
              "        [7.9158e-06, 6.8593e-06, 9.5535e-06, 8.5953e-06, 7.3393e-06],\n",
              "        [8.1217e-06, 7.0356e-06, 9.8024e-06, 8.8100e-06, 7.5272e-06],\n",
              "        [5.1672e-06, 4.4731e-06, 6.2327e-06, 5.6073e-06, 4.7861e-06],\n",
              "        [6.3425e-06, 5.4931e-06, 7.6558e-06, 6.8763e-06, 5.8755e-06],\n",
              "        [4.5913e-06, 3.9782e-06, 5.5425e-06, 4.9827e-06, 4.2556e-06],\n",
              "        [5.6437e-06, 4.8884e-06, 6.8130e-06, 6.1198e-06, 5.2287e-06],\n",
              "        [4.6757e-06, 4.0570e-06, 5.6475e-06, 5.0814e-06, 4.3414e-06],\n",
              "        [6.2814e-06, 5.4505e-06, 7.5905e-06, 6.8221e-06, 5.8309e-06],\n",
              "        [6.8411e-06, 5.9282e-06, 8.2610e-06, 7.4188e-06, 6.3408e-06],\n",
              "        [4.6806e-06, 4.0488e-06, 5.6408e-06, 5.0768e-06, 4.3335e-06],\n",
              "        [6.4266e-06, 5.5744e-06, 7.7664e-06, 6.9760e-06, 5.9619e-06],\n",
              "        [5.3795e-06, 4.6678e-06, 6.5040e-06, 5.8367e-06, 4.9912e-06],\n",
              "        [3.3503e-06, 2.8984e-06, 4.0407e-06, 3.6298e-06, 3.1005e-06],\n",
              "        [6.0755e-06, 5.2658e-06, 7.3341e-06, 6.5972e-06, 5.6344e-06],\n",
              "        [5.2726e-06, 4.5672e-06, 6.3612e-06, 5.7242e-06, 4.8874e-06],\n",
              "        [3.5747e-06, 3.0989e-06, 4.3175e-06, 3.8780e-06, 3.3148e-06],\n",
              "        [3.6914e-06, 3.1990e-06, 4.4586e-06, 4.0030e-06, 3.4210e-06],\n",
              "        [5.5166e-06, 4.7867e-06, 6.6700e-06, 5.9871e-06, 5.1182e-06],\n",
              "        [4.7651e-06, 4.1363e-06, 5.7603e-06, 5.1741e-06, 4.4244e-06],\n",
              "        [6.6720e-06, 5.7902e-06, 8.0644e-06, 7.2460e-06, 6.1931e-06],\n",
              "        [6.2256e-06, 5.3889e-06, 7.5078e-06, 6.7560e-06, 5.7663e-06],\n",
              "        [7.8890e-06, 6.8385e-06, 9.5304e-06, 8.5572e-06, 7.3130e-06],\n",
              "        [2.9495e-06, 2.5559e-06, 3.5596e-06, 3.2022e-06, 2.7349e-06],\n",
              "        [4.7590e-06, 4.1355e-06, 5.7557e-06, 5.1779e-06, 4.4241e-06],\n",
              "        [3.4907e-06, 3.0221e-06, 4.2079e-06, 3.7912e-06, 3.2354e-06],\n",
              "        [7.3853e-06, 6.3999e-06, 8.9166e-06, 8.0127e-06, 6.8463e-06],\n",
              "        [5.8599e-06, 5.0841e-06, 7.0822e-06, 6.3636e-06, 5.4376e-06],\n",
              "        [6.1723e-06, 5.3431e-06, 7.4469e-06, 6.6926e-06, 5.7159e-06],\n",
              "        [8.4805e-06, 7.3495e-06, 1.0237e-05, 9.2075e-06, 7.8629e-06],\n",
              "        [8.1424e-06, 7.0519e-06, 9.8276e-06, 8.8310e-06, 7.5436e-06]])"
            ]
          },
          "metadata": {},
          "execution_count": 5
        }
      ]
    },
    {
      "cell_type": "code",
      "source": [],
      "metadata": {
        "id": "1ao5FpoBvzJB"
      },
      "execution_count": 5,
      "outputs": []
    }
  ]
}